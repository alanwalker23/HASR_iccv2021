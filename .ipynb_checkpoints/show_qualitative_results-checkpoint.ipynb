{
 "cells": [
  {
   "cell_type": "code",
   "execution_count": 1,
   "metadata": {},
   "outputs": [],
   "source": [
    "import numpy as np\n",
    "import os\n",
    "import sys\n",
    "import copy\n",
    "import math\n",
    "import csv\n",
    "\n",
    "import torch\n",
    "import random\n",
    "\n",
    "import sys\n",
    "sys.path.append('./backbones/asrf')\n",
    "from libs import models\n",
    "from libs.optimizer import get_optimizer\n",
    "from libs.dataset import ActionSegmentationDataset, collate_fn\n",
    "from libs.transformer import TempDownSamp, ToTensor\n",
    "from libs.postprocess import PostProcessor\n",
    "\n",
    "sys.path.append('./backbones/ms-tcn')\n",
    "from model import MultiStageModel\n",
    "\n",
    "sys.path.append('./backbones')\n",
    "sys.path.append('./backbones/SSTDA')\n",
    "from SSTDA.model import MultiStageModel as MSM_SSTDA\n",
    "\n",
    "from src.utils import eval_txts, load_meta\n",
    "from src.predict import predict_refiner\n",
    "from src.refiner_train import refiner_train\n",
    "from src.refiner_model import RefinerModel\n",
    "from src.mgru import mGRU\n",
    "\n",
    "import configs.refiner_config as cfg\n",
    "import configs.sstda_config as sstda_cfg\n",
    "import configs.asrf_config as asrf_cfg\n",
    "\n",
    "import matplotlib.pyplot as plt\n"
   ]
  },
  {
   "cell_type": "code",
   "execution_count": 2,
   "metadata": {},
   "outputs": [],
   "source": [
    "dataset_names = ['gtea', '50salads', 'breakfast']\n",
    "backbone_names = ['asrf', 'mstcn', 'sstda', 'mgru']\n",
    "num_splits = dict()\n",
    "num_splits['gtea'] = 4\n",
    "num_splits['50salads']=5\n",
    "num_splits['breakfast']=4"
   ]
  },
  {
   "cell_type": "code",
   "execution_count": 3,
   "metadata": {},
   "outputs": [],
   "source": [
    "curr_refiner = 'refinerMSTCN-mstcn'\n",
    "curr_backbone = 'mstcn'\n",
    "dataset = 'gtea'\n",
    "split = 4"
   ]
  },
  {
   "cell_type": "code",
   "execution_count": 5,
   "metadata": {},
   "outputs": [],
   "source": [
    "record_root = './record'\n",
    "refiner_best_epoch = dict()\n",
    "\n",
    "for dir_name in sorted([x for x in os.listdir(record_root) if x[0]!='.']):\n",
    "    backbone_name = ''.join([t for t in dir_name if t.isupper()]).lower()\n",
    "    if len(backbone_name) > 0:\n",
    "        refiner_best_epoch[dir_name] = {dn:[] for dn in dataset_names}\n",
    "                \n",
    "        for data_name in os.listdir(os.path.join(record_root, dir_name)):\n",
    "            csv_list = os.listdir(os.path.join(record_root, dir_name, data_name))\n",
    "            plot_flag = True\n",
    "            for i in range(num_splits[data_name]):\n",
    "                if 'split_{}_best.csv'.format(i+1) not in csv_list:\n",
    "                    plot_flag = False\n",
    "            if plot_flag:\n",
    "                curr_score = np.asarray([0.0 for _ in range(5)])\n",
    "                backbone_score = np.asarray([0.0 for _ in range(5)])\n",
    "                for i in range(num_splits[data_name]):\n",
    "                    curr_csv_fp = os.path.join(record_root, dir_name, data_name, 'split_{}_best.csv'.format(i+1))\n",
    "                    backbone_csv_fp = os.path.join(record_root, backbone_name, data_name, 'split_{}_best.csv'.format(i+1))\n",
    "                    with open(curr_csv_fp, 'r') as f:\n",
    "                        reader = csv.reader(f, delimiter='\\t')\n",
    "                        for ri, row in enumerate(reader):\n",
    "                            if ri>0:\n",
    "                                refiner_best_epoch[dir_name][data_name].append(int(row[0]))\n",
    "                                curr_score += np.asarray([float(r) for r in row[1:]]) / num_splits[data_name]\n"
   ]
  },
  {
   "cell_type": "code",
   "execution_count": 6,
   "metadata": {},
   "outputs": [],
   "source": [
    "device = 'cuda'"
   ]
  },
  {
   "cell_type": "code",
   "execution_count": 7,
   "metadata": {},
   "outputs": [
    {
     "name": "stdout",
     "output_type": "stream",
     "text": [
      "Created :./model/refinerMSTCN-mstcn/gtea/split_1\n",
      "Created :./result/refinerMSTCN-mstcn/gtea/split_1\n",
      "Created :./record/refinerMSTCN-mstcn/gtea\n"
     ]
    }
   ],
   "source": [
    "actions_dict, \\\n",
    "num_actions, \\\n",
    "gt_path, \\\n",
    "features_path, \\\n",
    "vid_list_file, \\\n",
    "vid_list_file_tst, \\\n",
    "sample_rate,\\\n",
    "model_dir,\\\n",
    "result_dir, \\\n",
    "record_dir = load_meta(cfg.dataset_root, cfg.model_root, cfg.result_root, cfg.record_root, \n",
    "                       dataset, split, curr_refiner)"
   ]
  },
  {
   "cell_type": "code",
   "execution_count": 8,
   "metadata": {},
   "outputs": [],
   "source": [
    "curr_split_dir = os.path.join(cfg.dataset_root, dataset, 'splits')\n",
    "split_dict = {k+1:[] for k in range(cfg.num_splits[dataset])}\n",
    "for i in range(eval('cfg.num_splits[\"{}\"]'.format(dataset))):\n",
    "    curr_fp = os.path.join(curr_split_dir, 'test.split{}.bundle'.format(i+1))\n",
    "    f = open(curr_fp, 'r')\n",
    "    lines = f.readlines()\n",
    "    for l in lines:\n",
    "        curr_name = l.split('.')[0]\n",
    "        split_dict[i+1].append(curr_name)\n",
    "    f.close()"
   ]
  },
  {
   "cell_type": "code",
   "execution_count": 9,
   "metadata": {},
   "outputs": [],
   "source": [
    "pool_backbones = {bn: {k+1:None for k in range(cfg.num_splits[dataset])} for bn in cfg.backbone_names}\n",
    "\n",
    "for i in range(eval('cfg.num_splits[\"{}\"]'.format(dataset))):\n",
    "    if 'asrf' in cfg.backbone_names:\n",
    "        curr_asrf = models.ActionSegmentRefinementFramework(\n",
    "                        in_channel = cfg.in_channel,\n",
    "                        n_features = cfg.n_features,\n",
    "                        n_classes = num_actions,\n",
    "                        n_stages = cfg.n_stages,\n",
    "                        n_layers = cfg.n_layers,\n",
    "                        n_stages_asb = cfg.n_stages_asb,\n",
    "                        n_stages_brb = cfg.n_stages_brb\n",
    "        )\n",
    "        curr_asrf.load_state_dict(torch.load(os.path.join(cfg.model_root, 'asrf', dataset, \n",
    "                                                          'split_{}'.format(i+1), \n",
    "                                                          'epoch-{}.model'.format(cfg.best['asrf'][dataset][i]))))\n",
    "        curr_asrf.to(device)\n",
    "        pool_backbones['asrf'][i+1] = curr_asrf\n",
    "        \n",
    "    if 'mstcn' in cfg.backbone_names:\n",
    "        curr_mstcn = MultiStageModel(cfg.num_stages,\n",
    "                                     num_layers = cfg.num_layers,\n",
    "                                     num_f_maps = cfg.num_f_maps,\n",
    "                                     dim = cfg.features_dim,\n",
    "                                     num_classes = num_actions)\n",
    "        curr_mstcn.load_state_dict(torch.load(os.path.join(cfg.model_root, 'mstcn', dataset,\n",
    "                                                          'split_{}'.format(i+1),\n",
    "                                                          'epoch-{}.model'.format(cfg.best['mstcn'][dataset][i]))))\n",
    "        curr_mstcn.to(device)\n",
    "        pool_backbones['mstcn'][i+1] = curr_mstcn\n",
    "        \n",
    "    if 'sstda' in cfg.backbone_names:\n",
    "        curr_sstda = MSM_SSTDA(sstda_cfg, num_actions)\n",
    "        curr_sstda.load_state_dict(torch.load(os.path.join(cfg.model_root, 'sstda', dataset,\n",
    "                                                          'split_{}'.format(i+1),\n",
    "                                                          'epoch-{}.model'.format(cfg.best['sstda'][dataset][i]))))\n",
    "        curr_sstda.to(device)\n",
    "        pool_backbones['sstda'][i+1] = curr_sstda\n",
    "        \n",
    "    if 'mgru' in cfg.backbone_names:\n",
    "        curr_mgru = mGRU(num_layers=cfg.gru_layers, \n",
    "                         feat_dim=cfg.gru_hidden_dim, \n",
    "                         inp_dim=cfg.in_channel, \n",
    "                         out_dim=num_actions)\n",
    "        curr_mgru.load_state_dict(torch.load(os.path.join(cfg.model_root, 'mgru', dataset,\n",
    "                                                          'split_{}'.format(i+1),\n",
    "                                                          'epoch-{}.model'.format(cfg.best['mgru'][dataset][i]))))\n",
    "        curr_mgru.to(device)\n",
    "        pool_backbones['mgru'][i+1] = curr_mgru\n",
    "        \n",
    "main_backbones = copy.deepcopy(pool_backbones[curr_backbone])"
   ]
  },
  {
   "cell_type": "code",
   "execution_count": 10,
   "metadata": {
    "scrolled": false
   },
   "outputs": [
    {
     "data": {
      "text/plain": [
       "RefinerModel(\n",
       "  (key_embedding): Linear(in_features=2048, out_features=512, bias=False)\n",
       "  (value_embedding): Linear(in_features=2048, out_features=512, bias=False)\n",
       "  (query_embedding): Embedding(11, 512)\n",
       "  (label_embedding): Embedding(11, 512)\n",
       "  (video_embedding): SparseSampleEmbedder(\n",
       "    (init_conv): Conv1d(1024, 512, kernel_size=(3,), stride=(1,), padding=(1,))\n",
       "    (blocks): ModuleList(\n",
       "      (0): ResidualBlock(\n",
       "        (block): Sequential(\n",
       "          (0): Conv1d(512, 512, kernel_size=(3,), stride=(1,), padding=(1,))\n",
       "          (1): LeakyReLU(negative_slope=0.1)\n",
       "          (2): Conv1d(512, 512, kernel_size=(3,), stride=(1,), padding=(1,))\n",
       "        )\n",
       "      )\n",
       "      (1): ResidualBlock(\n",
       "        (block): Sequential(\n",
       "          (0): Conv1d(512, 512, kernel_size=(3,), stride=(1,), padding=(1,))\n",
       "          (1): LeakyReLU(negative_slope=0.1)\n",
       "          (2): Conv1d(512, 512, kernel_size=(3,), stride=(1,), padding=(1,))\n",
       "        )\n",
       "      )\n",
       "      (2): ResidualBlock(\n",
       "        (block): Sequential(\n",
       "          (0): Conv1d(512, 512, kernel_size=(3,), stride=(1,), padding=(1,))\n",
       "          (1): LeakyReLU(negative_slope=0.1)\n",
       "          (2): Conv1d(512, 512, kernel_size=(3,), stride=(1,), padding=(1,))\n",
       "        )\n",
       "      )\n",
       "      (3): ResidualBlock(\n",
       "        (block): Sequential(\n",
       "          (0): Conv1d(512, 512, kernel_size=(3,), stride=(1,), padding=(1,))\n",
       "          (1): LeakyReLU(negative_slope=0.1)\n",
       "          (2): Conv1d(512, 512, kernel_size=(3,), stride=(1,), padding=(1,))\n",
       "        )\n",
       "      )\n",
       "      (4): ResidualBlock(\n",
       "        (block): Sequential(\n",
       "          (0): Conv1d(512, 512, kernel_size=(3,), stride=(1,), padding=(1,))\n",
       "          (1): LeakyReLU(negative_slope=0.1)\n",
       "          (2): Conv1d(512, 512, kernel_size=(3,), stride=(1,), padding=(1,))\n",
       "        )\n",
       "      )\n",
       "    )\n",
       "    (maxpool): MaxPool1d(kernel_size=2, stride=2, padding=0, dilation=1, ceil_mode=False)\n",
       "    (relu): LeakyReLU(negative_slope=0.1)\n",
       "  )\n",
       "  (refiner): GRU(1536, 512, batch_first=True, bidirectional=True)\n",
       "  (refiner_out_linear): Linear(in_features=1024, out_features=11, bias=True)\n",
       ")"
      ]
     },
     "execution_count": 10,
     "metadata": {},
     "output_type": "execute_result"
    }
   ],
   "source": [
    "model = RefinerModel(num_actions = num_actions,\n",
    "                    input_dim = cfg.features_dim,\n",
    "                    feat_dim = cfg.hidden_dim,\n",
    "                    num_highlevel_frames = cfg.num_highlevel_frames,\n",
    "                    num_highlevel_samples = cfg.num_highlevel_samples,\n",
    "                    device = device)\n",
    "model.load_state_dict(torch.load(os.path.join(cfg.model_root, curr_refiner, \n",
    "                                              dataset, 'split_{}'.format(split), \n",
    "                                              'epoch-{}.model'.format(refiner_best_epoch[curr_refiner][dataset][split-1]))))\n",
    "model.to(device)\n"
   ]
  },
  {
   "cell_type": "code",
   "execution_count": 11,
   "metadata": {},
   "outputs": [
    {
     "name": "stdout",
     "output_type": "stream",
     "text": [
      "11\n"
     ]
    }
   ],
   "source": [
    "def get_segment_idx(segment_res):\n",
    "    segment_time = [0]\n",
    "    segment_ind = [segment_res[0]]\n",
    "    for i, s in enumerate(segment_res):\n",
    "        if s != segment_ind[-1]:\n",
    "            segment_time.append(i)\n",
    "            segment_ind.append(s)\n",
    "    segment_time.append(len(segment_res))\n",
    "\n",
    "    return segment_time, segment_ind\n",
    "\n",
    "def get_name(ind_list, actions_dict):\n",
    "    name_list = []\n",
    "    for ind in ind_list:\n",
    "        name_list += [key for key in actions_dict if actions_dict[key]==ind]\n",
    "    return name_list\n",
    "\n",
    "def color_map(N=256, normalized=True):\n",
    "    def bitget(byteval, idx):\n",
    "        return ((byteval & (1 << idx)) != 0)\n",
    "\n",
    "    dtype = 'float32' if normalized else 'uint8'\n",
    "    cmap = np.zeros((N, 3), dtype=dtype)\n",
    "    for i in range(N):\n",
    "        r = g = b = 0\n",
    "        c = i\n",
    "        for j in range(8):\n",
    "            r = r | (bitget(c, 0) << 7-j)\n",
    "            g = g | (bitget(c, 1) << 7-j)\n",
    "            b = b | (bitget(c, 2) << 7-j)\n",
    "            c = c >> 3\n",
    "\n",
    "        cmap[i] = np.array([r, g, b])\n",
    "\n",
    "    cmap = cmap/255 if normalized else cmap\n",
    "    return cmap\n",
    "N = len(actions_dict)\n",
    "RGB_tuples = color_map(100)\n",
    "print(N)"
   ]
  },
  {
   "cell_type": "code",
   "execution_count": 12,
   "metadata": {},
   "outputs": [],
   "source": [
    "def plot_prediction(model, main_backbone_name, backbones, split_dict, model_dir, result_dir, gt_path, features_path, vid_list_file, actions_dict, device, sample_rate):\n",
    "    model.eval()\n",
    "    with torch.no_grad():\n",
    "        file_ptr = open(vid_list_file, 'r')\n",
    "        list_of_vids = file_ptr.read().split('\\n')[:-1]\n",
    "        file_ptr.close()\n",
    "        \n",
    "        total_seg = 0\n",
    "        total_wrong = 0\n",
    "        for vid in list_of_vids:\n",
    "            print(vid)\n",
    "            f = open(os.path.join(gt_path, vid), 'r')\n",
    "            lines = f.readlines()\n",
    "            gt_segment = []\n",
    "            for l in lines:\n",
    "                gt_segment.append(actions_dict[l[:-1]])\n",
    "\n",
    "            features = np.load(features_path + vid.split('.')[0] + '.npy')\n",
    "            features = features[:, ::sample_rate]\n",
    "            input_x = torch.tensor(features, dtype=torch.float)\n",
    "            input_x.unsqueeze_(0)\n",
    "            input_x = input_x.to(device)\n",
    "            \n",
    "            split_idx = 0\n",
    "            for i in range(len(split_dict.keys())):\n",
    "                if vid.split('.')[0] in split_dict[i+1]:\n",
    "                    split_idx = i+1\n",
    "                    break\n",
    "            \n",
    "            curr_backbone = backbones[split_idx]\n",
    "            curr_backbone.eval()\n",
    "            \n",
    "            if main_backbone_name != 'asrf':\n",
    "                if main_backbone_name == 'mstcn':\n",
    "                    mask = torch.ones(input_x.size(), device=device)\n",
    "                    action_pred = curr_backbone(input_x, mask)[-1]\n",
    "                elif main_backbone_name == 'mgru':\n",
    "                    action_pred = curr_backbone(input_x)\n",
    "                elif main_backbone_name == 'sstda':\n",
    "                    mask = torch.ones(input_x.size(), device=device)\n",
    "                    action_pred, _, _, _, _, _, _, _, _, _, _, _, _, _ = curr_backbone(input_x, \n",
    "                                                                                       input_x, \n",
    "                                                                                       mask, \n",
    "                                                                                       mask, \n",
    "                                                                                       [0, 0], \n",
    "                                                                                       reverse=False)\n",
    "                    action_pred = action_pred[:, -1, :, :]\n",
    "\n",
    "                action_idx = torch.argmax(action_pred, dim=1).squeeze().detach()\n",
    "                \n",
    "            else:\n",
    "                out_cls, out_bound = curr_backbone(input_x)\n",
    "                postprocessor = PostProcessor(\"refinement_with_boundary\", asrf_cfg.boundary_th)\n",
    "                refined_output_cls = postprocessor(out_cls.cpu().data.numpy(), boundaries=out_bound.cpu().data.numpy(), \n",
    "                                                   masks=torch.ones(1, 1, input_x.shape[-1]).bool().data.numpy())\n",
    "                action_idx = torch.Tensor(refined_output_cls).squeeze().detach()\n",
    "\n",
    "            _, predictions, _ = model(action_idx.to(device), input_x)\n",
    "            _, predicted = torch.max(predictions.data, 1)\n",
    "                \n",
    "            predicted = predicted.squeeze()\n",
    "            \n",
    "            backbone_time, backbone_ind = get_segment_idx(action_idx)\n",
    "            backbone_ind = [int(x.item()) for x in backbone_ind]\n",
    "            refine_time, refine_ind = get_segment_idx(predicted)\n",
    "            refine_ind = [x.item() for x in refine_ind]\n",
    "            gt_time, gt_ind = get_segment_idx(gt_segment)\n",
    "\n",
    "            plt.figure(figsize=(15, 5))\n",
    "            plt.axis('off')\n",
    "            thres = 1000000\n",
    "            for i, t in enumerate(gt_time[:-1]):\n",
    "                if t < thres*sample_rate:\n",
    "                    plt.plot([t/sample_rate, gt_time[i+1]/sample_rate], [4, 4], linewidth=30, color=RGB_tuples[gt_ind[i]])\n",
    "\n",
    "            for i, t in enumerate(backbone_time[:-1]):\n",
    "                if t < thres:\n",
    "                    plt.plot([t, backbone_time[i+1]], [2, 2], linewidth=30, color=RGB_tuples[backbone_ind[i]])\n",
    "\n",
    "            for i, t in enumerate(refine_time[:-1]):\n",
    "                if t < thres:\n",
    "                    plt.plot([t, refine_time[i+1]], [0, 0], linewidth=30, color=RGB_tuples[refine_ind[i]])\n",
    "    \n",
    "            plt.pause(0.1)    \n",
    "            \n",
    "            gt_name = get_name(gt_ind, actions_dict)\n",
    "            bb_name = get_name(backbone_ind, actions_dict)\n",
    "            refine_name = get_name(refine_ind, actions_dict)\n",
    "        \n",
    "            \n",
    "            print(gt_name)\n",
    "            print(bb_name)\n",
    "            print(refine_name)\n",
    "            print('='*80)\n"
   ]
  },
  {
   "cell_type": "code",
   "execution_count": 13,
   "metadata": {
    "scrolled": false
   },
   "outputs": [
    {
     "name": "stdout",
     "output_type": "stream",
     "text": [
      "S1_Cheese_C1.txt\n"
     ]
    },
    {
     "data": {
      "image/png": "[encoded data removed]",
      "text/plain": [
       "<Figure size 1080x360 with 1 Axes>"
      ]
     },
     "metadata": {
      "needs_background": "light"
     },
     "output_type": "display_data"
    },
    {
     "name": "stdout",
     "output_type": "stream",
     "text": [
      "['background', 'take', 'background', 'take', 'open', 'put', 'background', 'take', 'background', 'open', 'background', 'pour', 'close', 'put', 'take', 'background', 'open', 'background', 'pour', 'background', 'close', 'put', 'background', 'take', 'put', 'background']\n",
      "['background', 'take', 'background', 'take', 'background', 'open', 'put', 'background', 'take', 'background', 'open', 'background', 'pour', 'background', 'close', 'put', 'background', 'take', 'background', 'open', 'background', 'pour', 'background', 'close', 'put', 'background', 'take', 'background', 'put', 'background', 'put', 'background']\n",
      "['background', 'take', 'background', 'take', 'put', 'background', 'take', 'background', 'open', 'pour', 'close', 'put', 'take', 'background', 'open', 'background', 'pour', 'background', 'close', 'put', 'background', 'take', 'put', 'background', 'put', 'background']\n",
      "================================================================================\n",
      "S1_CofHoney_C1.txt\n"
     ]
    },
    {
     "data": {
      "image/png": "[encoded data removed]",
      "text/plain": [
       "<Figure size 1080x360 with 1 Axes>"
      ]
     },
     "metadata": {
      "needs_background": "light"
     },
     "output_type": "display_data"
    },
    {
     "name": "stdout",
     "output_type": "stream",
     "text": [
      "['background', 'take', 'background', 'take', 'open', 'background', 'take', 'background', 'scoop', 'background', 'pour', 'background', 'scoop', 'background', 'pour', 'background', 'close', 'put', 'background', 'take', 'open', 'background', 'pour', 'close', 'put', 'background', 'take', 'background', 'open', 'background', 'pour', 'background', 'close', 'put', 'background', 'stir', 'background']\n",
      "['background', 'take', 'background', 'take', 'open', 'background', 'take', 'background', 'scoop', 'pour', 'background', 'pour', 'background', 'close', 'put', 'background', 'take', 'background', 'open', 'background', 'pour', 'background', 'close', 'put', 'background', 'take', 'open', 'background', 'pour', 'close', 'put', 'background', 'stir', 'background']\n",
      "['background', 'take', 'background', 'take', 'open', 'background', 'take', 'background', 'scoop', 'pour', 'background', 'pour', 'background', 'close', 'put', 'take', 'open', 'pour', 'close', 'put', 'background', 'take', 'open', 'background', 'pour', 'close', 'put', 'stir', 'background']\n",
      "================================================================================\n",
      "S1_Coffee_C1.txt\n"
     ]
    },
    {
     "data": {
      "image/png": "[encoded data removed]",
      "text/plain": [
       "<Figure size 1080x360 with 1 Axes>"
      ]
     },
     "metadata": {
      "needs_background": "light"
     },
     "output_type": "display_data"
    },
    {
     "name": "stdout",
     "output_type": "stream",
     "text": [
      "['background', 'take', 'background', 'take', 'open', 'background', 'take', 'background', 'scoop', 'background', 'pour', 'background', 'scoop', 'pour', 'background', 'close', 'put', 'background', 'take', 'open', 'background', 'scoop', 'pour', 'background', 'scoop', 'pour', 'background', 'close', 'put', 'background', 'take', 'background', 'open', 'background', 'pour', 'background', 'put', 'close', 'background', 'stir', 'background']\n",
      "['background', 'take', 'background', 'take', 'background', 'open', 'background', 'take', 'background', 'take', 'background', 'scoop', 'background', 'pour', 'background', 'scoop', 'pour', 'background', 'close', 'put', 'background', 'take', 'open', 'background', 'scoop', 'background', 'scoop', 'pour', 'background', 'close', 'put', 'background', 'take', 'open', 'background', 'pour', 'background', 'close', 'put', 'close', 'put', 'background', 'stir', 'background']\n",
      "['background', 'take', 'background', 'take', 'background', 'open', 'background', 'take', 'background', 'take', 'background', 'scoop', 'background', 'pour', 'background', 'scoop', 'pour', 'background', 'close', 'put', 'take', 'open', 'background', 'scoop', 'background', 'scoop', 'pour', 'background', 'close', 'put', 'take', 'open', 'background', 'pour', 'background', 'close', 'put', 'close', 'put', 'background', 'stir', 'background']\n",
      "================================================================================\n",
      "S1_Hotdog_C1.txt\n"
     ]
    },
    {
     "data": {
      "image/png": "[encoded data removed]",
      "text/plain": [
       "<Figure size 1080x360 with 1 Axes>"
      ]
     },
     "metadata": {
      "needs_background": "light"
     },
     "output_type": "display_data"
    },
    {
     "name": "stdout",
     "output_type": "stream",
     "text": [
      "['background', 'take', 'background', 'take', 'put', 'background', 'take', 'open', 'background', 'pour', 'background', 'close', 'put', 'take', 'background', 'open', 'background', 'pour', 'close', 'put', 'background', 'fold', 'background']\n",
      "['background', 'take', 'background', 'take', 'background', 'take', 'background', 'pour', 'background', 'close', 'put', 'background', 'take', 'background', 'open', 'background', 'pour', 'close', 'put', 'background', 'fold', 'background', 'fold', 'background']\n",
      "['background', 'take', 'background', 'take', 'background', 'take', 'background', 'pour', 'background', 'close', 'put', 'take', 'background', 'open', 'pour', 'close', 'put', 'fold', 'background']\n",
      "================================================================================\n",
      "S1_Pealate_C1.txt\n"
     ]
    },
    {
     "data": {
      "image/png": "[encoded data removed]",
      "text/plain": [
       "<Figure size 1080x360 with 1 Axes>"
      ]
     },
     "metadata": {
      "needs_background": "light"
     },
     "output_type": "display_data"
    },
    {
     "name": "stdout",
     "output_type": "stream",
     "text": [
      "['background', 'take', 'background', 'take', 'open', 'background', 'take', 'background', 'scoop', 'background', 'spread', 'background', 'close', 'put', 'take', 'background', 'open', 'background', 'scoop', 'background', 'spread', 'background', 'close', 'put', 'take', 'open', 'background', 'pour', 'background', 'close', 'put', 'background', 'take', 'background', 'put', 'background']\n",
      "['background', 'take', 'open', 'background', 'take', 'background', 'scoop', 'pour', 'scoop', 'background', 'scoop', 'background', 'spread', 'background', 'close', 'put', 'take', 'open', 'background', 'scoop', 'background', 'spread', 'background', 'close', 'put', 'background', 'take', 'open', 'background', 'pour', 'background', 'put', 'background', 'take', 'background', 'put', 'background', 'put', 'background']\n",
      "['background', 'take', 'open', 'background', 'take', 'background', 'scoop', 'pour', 'scoop', 'background', 'scoop', 'background', 'spread', 'background', 'close', 'put', 'take', 'open', 'background', 'spread', 'background', 'close', 'put', 'take', 'open', 'background', 'pour', 'background', 'put', 'background', 'take', 'background', 'put']\n",
      "================================================================================\n",
      "S1_Peanut_C1.txt\n"
     ]
    },
    {
     "data": {
      "image/png": "[encoded data removed]",
      "text/plain": [
       "<Figure size 1080x360 with 1 Axes>"
      ]
     },
     "metadata": {
      "needs_background": "light"
     },
     "output_type": "display_data"
    },
    {
     "name": "stdout",
     "output_type": "stream",
     "text": [
      "['background', 'take', 'background', 'take', 'background', 'open', 'background', 'take', 'background', 'scoop', 'background', 'spread', 'background', 'take', 'background', 'close', 'put', 'background', 'take', 'open', 'background', 'pour', 'background', 'close', 'put', 'background', 'take', 'put', 'background']\n",
      "['background', 'take', 'background', 'take', 'open', 'put', 'background', 'take', 'background', 'scoop', 'background', 'scoop', 'background', 'scoop', 'background', 'spread', 'background', 'take', 'background', 'open', 'put', 'background', 'take', 'background', 'take', 'background', 'open', 'background', 'pour', 'background', 'close', 'put', 'background', 'take', 'background', 'put', 'background', 'put', 'background']\n",
      "['background', 'take', 'background', 'take', 'open', 'put', 'take', 'background', 'scoop', 'background', 'scoop', 'background', 'spread', 'background', 'take', 'background', 'open', 'put', 'take', 'background', 'take', 'open', 'background', 'pour', 'background', 'close', 'put', 'take', 'put', 'background']\n",
      "================================================================================\n",
      "S1_Tea_C1.txt\n"
     ]
    },
    {
     "data": {
      "image/png": "[encoded data removed]",
      "text/plain": [
       "<Figure size 1080x360 with 1 Axes>"
      ]
     },
     "metadata": {
      "needs_background": "light"
     },
     "output_type": "display_data"
    },
    {
     "name": "stdout",
     "output_type": "stream",
     "text": [
      "['background', 'take', 'background', 'take', 'open', 'pour', 'background', 'close', 'put', 'background', 'take', 'background', 'put', 'background', 'open', 'background', 'shake', 'background', 'take', 'background', 'open', 'background', 'take', 'background', 'scoop', 'pour', 'background', 'scoop', 'pour', 'background', 'close', 'put', 'background', 'stir', 'background']\n",
      "['background', 'take', 'background', 'take', 'background', 'open', 'background', 'pour', 'background', 'close', 'background', 'take', 'background', 'take', 'background', 'take', 'background', 'open', 'background', 'shake', 'background', 'shake', 'stir', 'background', 'stir', 'background', 'shake', 'background', 'shake', 'background', 'shake', 'background', 'shake', 'background', 'open', 'background', 'take', 'background', 'scoop', 'pour', 'background', 'scoop', 'pour', 'background', 'close', 'put', 'background', 'put', 'background', 'stir', 'background']\n",
      "['background', 'take', 'background', 'take', 'open', 'background', 'pour', 'background', 'close', 'put', 'take', 'background', 'take', 'background', 'take', 'background', 'open', 'background', 'shake', 'background', 'close', 'stir', 'background', 'put', 'background', 'shake', 'open', 'shake', 'stir', 'shake', 'background', 'open', 'background', 'take', 'background', 'scoop', 'background', 'scoop', 'pour', 'background', 'close', 'put', 'background', 'stir', 'background']\n",
      "================================================================================\n"
     ]
    }
   ],
   "source": [
    "plot_prediction(model, curr_backbone, main_backbones, \n",
    "                split_dict, model_dir, result_dir, gt_path, features_path, \n",
    "                vid_list_file_tst, actions_dict, device, sample_rate)"
   ]
  },
  {
   "cell_type": "markdown",
   "metadata": {},
   "source": [
    "#### "
   ]
  }
 ],
 "metadata": {
  "kernelspec": {
   "display_name": "Python 3",
   "language": "python",
   "name": "python3"
  },
  "language_info": {
   "codemirror_mode": {
    "name": "ipython",
    "version": 3
   },
   "file_extension": ".py",
   "mimetype": "text/x-python",
   "name": "python",
   "nbconvert_exporter": "python",
   "pygments_lexer": "ipython3",
   "version": "3.8.8"
  }
 },
 "nbformat": 4,
 "nbformat_minor": 4
}
