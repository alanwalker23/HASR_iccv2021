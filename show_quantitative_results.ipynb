{
 "cells": [
  {
   "cell_type": "code",
   "execution_count": 1,
   "metadata": {},
   "outputs": [],
   "source": [
    "import numpy as np\n",
    "import os\n",
    "import sys\n",
    "import copy\n",
    "import math\n",
    "import csv"
   ]
  },
  {
   "cell_type": "code",
   "execution_count": 2,
   "metadata": {},
   "outputs": [],
   "source": [
    "dataset_names = ['gtea', '50salads', 'breakfast']\n",
    "backbone_names = ['asrf', 'mstcn', 'sstda', 'mgru']\n",
    "num_splits = dict()\n",
    "num_splits['gtea'] = 4\n",
    "num_splits['50salads']=5\n",
    "num_splits['breakfast']=4"
   ]
  },
  {
   "cell_type": "code",
   "execution_count": 5,
   "metadata": {
    "scrolled": false
   },
   "outputs": [
    {
     "name": "stdout",
     "output_type": "stream",
     "text": [
      "mstcn /\t refinerMSTCN-mstcn /\t gtea\n",
      "backbone:\t 88.6 / 86.4 / 72.5 / 83.9 /78.3 \n",
      "refined:\t 89.1 / 87.2 / 73.5 / 85.0 /77.6 \n",
      "gain: \t\t 0.4 / 0.8 / 1.0 / 1.1 /-0.7 \n",
      "--------------------------------------------------------------------------------\n"
     ]
    }
   ],
   "source": [
    "record_root = './record'\n",
    "refiner_best_epoch = dict()\n",
    "backbone_best_epoch = dict()\n",
    "\n",
    "for dir_name in sorted([x for x in os.listdir(record_root) if x[0]!='.']):\n",
    "    backbone_name = ''.join([t for t in dir_name if t.isupper()]).lower()\n",
    "    if len(backbone_name) > 0:\n",
    "        refiner_best_epoch[dir_name] = {dn:[] for dn in dataset_names}\n",
    "        \n",
    "        backbone_best_epoch[backbone_name] = {dn:[] for dn in dataset_names}\n",
    "        \n",
    "        for data_name in os.listdir(os.path.join(record_root, dir_name)):\n",
    "            print(backbone_name, '/\\t', dir_name, '/\\t', data_name)\n",
    "            csv_list = os.listdir(os.path.join(record_root, dir_name, data_name))\n",
    "            plot_flag = True\n",
    "            for i in range(num_splits[data_name]):\n",
    "                if 'split_{}_best.csv'.format(i+1) not in csv_list:\n",
    "                    plot_flag = False\n",
    "            if plot_flag:\n",
    "                curr_score = np.asarray([0.0 for _ in range(5)])\n",
    "                backbone_score = np.asarray([0.0 for _ in range(5)])\n",
    "                for i in range(num_splits[data_name]):\n",
    "                    curr_csv_fp = os.path.join(record_root, dir_name, data_name, 'split_{}_best.csv'.format(i+1))\n",
    "                    backbone_csv_fp = os.path.join(record_root, backbone_name, data_name, 'split_{}_best.csv'.format(i+1))\n",
    "                    with open(curr_csv_fp, 'r') as f:\n",
    "                        reader = csv.reader(f, delimiter='\\t')\n",
    "                        for ri, row in enumerate(reader):\n",
    "                            if ri>0:\n",
    "                                refiner_best_epoch[dir_name][data_name].append(int(row[0]))\n",
    "                                curr_score += np.asarray([float(r) for r in row[1:]]) / num_splits[data_name]\n",
    "                    with open(backbone_csv_fp, 'r') as f:\n",
    "                        reader = csv.reader(f, delimiter='\\t')\n",
    "                        for ri, row in enumerate(reader):\n",
    "                            if ri>0:\n",
    "                                backbone_best_epoch[backbone_name][data_name].append(int(row[0]))\n",
    "                                backbone_score += np.asarray([float(r) for r in row[1:]]) / num_splits[data_name]\n",
    "                print('backbone:\\t %.1f / %.1f / %.1f / %.1f /%.1f ' %(backbone_score[2], backbone_score[3], backbone_score[4], backbone_score[1], backbone_score[0]))\n",
    "                print('refined:\\t %.1f / %.1f / %.1f / %.1f /%.1f ' %(curr_score[2], curr_score[3], curr_score[4], curr_score[1], curr_score[0]))\n",
    "                print('gain: \\t\\t %.1f / %.1f / %.1f / %.1f /%.1f ' %( curr_score[2] - backbone_score[2],\n",
    "                                                                      curr_score[3]-backbone_score[3],\n",
    "                                                                      curr_score[4]-backbone_score[4],\n",
    "                                                                      curr_score[1]-backbone_score[1],\n",
    "                                                                      curr_score[0]-backbone_score[0])) \n",
    "            print('-'*80)\n",
    "\n"
   ]
  },
  {
   "cell_type": "markdown",
   "metadata": {},
   "source": [
    "#### "
   ]
  }
 ],
 "metadata": {
  "kernelspec": {
   "display_name": "hasr",
   "language": "python",
   "name": "hasr"
  },
  "language_info": {
   "codemirror_mode": {
    "name": "ipython",
    "version": 3
   },
   "file_extension": ".py",
   "mimetype": "text/x-python",
   "name": "python",
   "nbconvert_exporter": "python",
   "pygments_lexer": "ipython3",
   "version": "3.7.9"
  }
 },
 "nbformat": 4,
 "nbformat_minor": 4
}
